{
 "cells": [
  {
   "cell_type": "code",
   "execution_count": 1,
   "metadata": {},
   "outputs": [],
   "source": [
    "import pandas as pd\n",
    "import numpy as np\n",
    "from numpy.random import choice\n",
    "import datetime"
   ]
  },
  {
   "cell_type": "code",
   "execution_count": 2,
   "metadata": {},
   "outputs": [
    {
     "data": {
      "text/html": [
       "<div>\n",
       "<style scoped>\n",
       "    .dataframe tbody tr th:only-of-type {\n",
       "        vertical-align: middle;\n",
       "    }\n",
       "\n",
       "    .dataframe tbody tr th {\n",
       "        vertical-align: top;\n",
       "    }\n",
       "\n",
       "    .dataframe thead th {\n",
       "        text-align: right;\n",
       "    }\n",
       "</style>\n",
       "<table border=\"1\" class=\"dataframe\">\n",
       "  <thead>\n",
       "    <tr style=\"text-align: right;\">\n",
       "      <th></th>\n",
       "      <th>Date of Birth</th>\n",
       "      <th>Provider Name</th>\n",
       "      <th>Program Name</th>\n",
       "      <th>Current Status</th>\n",
       "      <th>Enrollment Date</th>\n",
       "      <th>Highest Milestone</th>\n",
       "    </tr>\n",
       "  </thead>\n",
       "  <tbody>\n",
       "    <tr>\n",
       "      <th>0</th>\n",
       "      <td>04/11/1985</td>\n",
       "      <td>Dario Health</td>\n",
       "      <td>DMP</td>\n",
       "      <td>Enrolled</td>\n",
       "      <td>06/13/2025</td>\n",
       "      <td>Enrolled</td>\n",
       "    </tr>\n",
       "    <tr>\n",
       "      <th>1</th>\n",
       "      <td>11/08/1988</td>\n",
       "      <td>Sword Health</td>\n",
       "      <td>MSK-HIGH</td>\n",
       "      <td>Enrolled</td>\n",
       "      <td>06/13/2025</td>\n",
       "      <td>MSK_HIGHM1</td>\n",
       "    </tr>\n",
       "    <tr>\n",
       "      <th>2</th>\n",
       "      <td>05/19/1989</td>\n",
       "      <td>Headspace</td>\n",
       "      <td>SSR</td>\n",
       "      <td>Enrolled</td>\n",
       "      <td>06/13/2025</td>\n",
       "      <td>SSRM1</td>\n",
       "    </tr>\n",
       "    <tr>\n",
       "      <th>3</th>\n",
       "      <td>12/28/1997</td>\n",
       "      <td>Betr Health</td>\n",
       "      <td>NDPP</td>\n",
       "      <td>Enrolled</td>\n",
       "      <td>06/13/2025</td>\n",
       "      <td>M1</td>\n",
       "    </tr>\n",
       "    <tr>\n",
       "      <th>4</th>\n",
       "      <td>05/14/1985</td>\n",
       "      <td>Headspace</td>\n",
       "      <td>SSR</td>\n",
       "      <td>Enrolled</td>\n",
       "      <td>06/13/2025</td>\n",
       "      <td>SSRM1</td>\n",
       "    </tr>\n",
       "  </tbody>\n",
       "</table>\n",
       "</div>"
      ],
      "text/plain": [
       "  Date of Birth Provider Name Program Name Current Status Enrollment Date  \\\n",
       "0    04/11/1985  Dario Health          DMP       Enrolled      06/13/2025   \n",
       "1    11/08/1988  Sword Health     MSK-HIGH       Enrolled      06/13/2025   \n",
       "2    05/19/1989     Headspace          SSR       Enrolled      06/13/2025   \n",
       "3    12/28/1997   Betr Health         NDPP       Enrolled      06/13/2025   \n",
       "4    05/14/1985     Headspace          SSR       Enrolled      06/13/2025   \n",
       "\n",
       "  Highest Milestone  \n",
       "0          Enrolled  \n",
       "1        MSK_HIGHM1  \n",
       "2             SSRM1  \n",
       "3                M1  \n",
       "4             SSRM1  "
      ]
     },
     "execution_count": 2,
     "metadata": {},
     "output_type": "execute_result"
    }
   ],
   "source": [
    "data = pd.read_csv('data.csv')\n",
    "data.head()"
   ]
  },
  {
   "cell_type": "code",
   "execution_count": 3,
   "metadata": {},
   "outputs": [],
   "source": [
    "gender = ['F', 'M']\n",
    "randomized_gender = choice(gender, len(data), p=[0.496, 0.504])\n",
    "data['Gender'] = randomized_gender"
   ]
  },
  {
   "cell_type": "code",
   "execution_count": 4,
   "metadata": {},
   "outputs": [],
   "source": [
    "race = ['Latino', 'White', 'Asian American or Pacific Islander', 'Black', 'Multiracial', 'Native American or Alaskan Native']\n",
    "randomized_race = choice(race, len(data), p=[0.4, 0.34, 0.16, 0.06, 0.03, 0.01])\n",
    "data['Race'] = randomized_race"
   ]
  },
  {
   "cell_type": "code",
   "execution_count": 5,
   "metadata": {},
   "outputs": [],
   "source": [
    "lob = pd.DataFrame()\n",
    "lob['LOB'] = ['IFP', 'Medicare', 'Medi-CAL', 'Small Group', 'Middle Market', 'Premier', 'CalPERS']\n",
    "lob['Membership Counts'] = [700, 400, 600, 500, 400, 500, 450]\n",
    "lob['Proportion of Membership'] = lob['Membership Counts'] / sum(lob['Membership Counts'])"
   ]
  },
  {
   "cell_type": "code",
   "execution_count": 6,
   "metadata": {},
   "outputs": [],
   "source": [
    "lob_list = list(lob['LOB'])\n",
    "data['LOB'] = choice(lob_list, len(data), p=list(lob['Proportion of Membership']))"
   ]
  },
  {
   "cell_type": "code",
   "execution_count": 7,
   "metadata": {},
   "outputs": [
    {
     "data": {
      "text/html": [
       "<div>\n",
       "<style scoped>\n",
       "    .dataframe tbody tr th:only-of-type {\n",
       "        vertical-align: middle;\n",
       "    }\n",
       "\n",
       "    .dataframe tbody tr th {\n",
       "        vertical-align: top;\n",
       "    }\n",
       "\n",
       "    .dataframe thead th {\n",
       "        text-align: right;\n",
       "    }\n",
       "</style>\n",
       "<table border=\"1\" class=\"dataframe\">\n",
       "  <thead>\n",
       "    <tr style=\"text-align: right;\">\n",
       "      <th></th>\n",
       "      <th>Date of Birth</th>\n",
       "      <th>Provider Name</th>\n",
       "      <th>Program Name</th>\n",
       "      <th>Current Status</th>\n",
       "      <th>Enrollment Date</th>\n",
       "      <th>Highest Milestone</th>\n",
       "      <th>Gender</th>\n",
       "      <th>Race</th>\n",
       "      <th>LOB</th>\n",
       "      <th>Age</th>\n",
       "    </tr>\n",
       "  </thead>\n",
       "  <tbody>\n",
       "    <tr>\n",
       "      <th>0</th>\n",
       "      <td>1985-04-11</td>\n",
       "      <td>Dario Health</td>\n",
       "      <td>DMP</td>\n",
       "      <td>Enrolled</td>\n",
       "      <td>06/13/2025</td>\n",
       "      <td>Enrolled</td>\n",
       "      <td>F</td>\n",
       "      <td>Latino</td>\n",
       "      <td>IFP</td>\n",
       "      <td>40</td>\n",
       "    </tr>\n",
       "    <tr>\n",
       "      <th>1</th>\n",
       "      <td>1988-11-08</td>\n",
       "      <td>Sword Health</td>\n",
       "      <td>MSK-HIGH</td>\n",
       "      <td>Enrolled</td>\n",
       "      <td>06/13/2025</td>\n",
       "      <td>MSK_HIGHM1</td>\n",
       "      <td>M</td>\n",
       "      <td>Latino</td>\n",
       "      <td>Small Group</td>\n",
       "      <td>37</td>\n",
       "    </tr>\n",
       "    <tr>\n",
       "      <th>2</th>\n",
       "      <td>1989-05-19</td>\n",
       "      <td>Headspace</td>\n",
       "      <td>SSR</td>\n",
       "      <td>Enrolled</td>\n",
       "      <td>06/13/2025</td>\n",
       "      <td>SSRM1</td>\n",
       "      <td>F</td>\n",
       "      <td>White</td>\n",
       "      <td>Small Group</td>\n",
       "      <td>36</td>\n",
       "    </tr>\n",
       "    <tr>\n",
       "      <th>3</th>\n",
       "      <td>1997-12-28</td>\n",
       "      <td>Betr Health</td>\n",
       "      <td>NDPP</td>\n",
       "      <td>Enrolled</td>\n",
       "      <td>06/13/2025</td>\n",
       "      <td>M1</td>\n",
       "      <td>F</td>\n",
       "      <td>Multiracial</td>\n",
       "      <td>IFP</td>\n",
       "      <td>28</td>\n",
       "    </tr>\n",
       "    <tr>\n",
       "      <th>4</th>\n",
       "      <td>1985-05-14</td>\n",
       "      <td>Headspace</td>\n",
       "      <td>SSR</td>\n",
       "      <td>Enrolled</td>\n",
       "      <td>06/13/2025</td>\n",
       "      <td>SSRM1</td>\n",
       "      <td>M</td>\n",
       "      <td>Multiracial</td>\n",
       "      <td>Medi-CAL</td>\n",
       "      <td>40</td>\n",
       "    </tr>\n",
       "    <tr>\n",
       "      <th>...</th>\n",
       "      <td>...</td>\n",
       "      <td>...</td>\n",
       "      <td>...</td>\n",
       "      <td>...</td>\n",
       "      <td>...</td>\n",
       "      <td>...</td>\n",
       "      <td>...</td>\n",
       "      <td>...</td>\n",
       "      <td>...</td>\n",
       "      <td>...</td>\n",
       "    </tr>\n",
       "    <tr>\n",
       "      <th>23826</th>\n",
       "      <td>1971-01-30</td>\n",
       "      <td>Headspace</td>\n",
       "      <td>SSR</td>\n",
       "      <td>Enrolled</td>\n",
       "      <td>12/16/2024</td>\n",
       "      <td>SSRM1</td>\n",
       "      <td>F</td>\n",
       "      <td>Latino</td>\n",
       "      <td>Premier</td>\n",
       "      <td>54</td>\n",
       "    </tr>\n",
       "    <tr>\n",
       "      <th>23827</th>\n",
       "      <td>1964-06-29</td>\n",
       "      <td>Headspace</td>\n",
       "      <td>SSR</td>\n",
       "      <td>Enrolled</td>\n",
       "      <td>12/16/2024</td>\n",
       "      <td>SSRM1</td>\n",
       "      <td>M</td>\n",
       "      <td>Latino</td>\n",
       "      <td>CalPERS</td>\n",
       "      <td>61</td>\n",
       "    </tr>\n",
       "    <tr>\n",
       "      <th>23828</th>\n",
       "      <td>1964-11-30</td>\n",
       "      <td>Sworkit Fitness</td>\n",
       "      <td>MSK-LOW</td>\n",
       "      <td>Enrolled</td>\n",
       "      <td>12/16/2024</td>\n",
       "      <td>MSK_LOWM3</td>\n",
       "      <td>F</td>\n",
       "      <td>Latino</td>\n",
       "      <td>Medicare</td>\n",
       "      <td>61</td>\n",
       "    </tr>\n",
       "    <tr>\n",
       "      <th>23829</th>\n",
       "      <td>1962-08-22</td>\n",
       "      <td>Dario Health</td>\n",
       "      <td>HTN</td>\n",
       "      <td>Enrolled</td>\n",
       "      <td>12/16/2024</td>\n",
       "      <td>HTNM4</td>\n",
       "      <td>M</td>\n",
       "      <td>Asian American or Pacific Islander</td>\n",
       "      <td>Medi-CAL</td>\n",
       "      <td>63</td>\n",
       "    </tr>\n",
       "    <tr>\n",
       "      <th>23830</th>\n",
       "      <td>1962-06-17</td>\n",
       "      <td>Headspace</td>\n",
       "      <td>SSR</td>\n",
       "      <td>Disenrolled</td>\n",
       "      <td>12/16/2024</td>\n",
       "      <td>SSRM1</td>\n",
       "      <td>F</td>\n",
       "      <td>White</td>\n",
       "      <td>Medi-CAL</td>\n",
       "      <td>63</td>\n",
       "    </tr>\n",
       "  </tbody>\n",
       "</table>\n",
       "<p>23831 rows × 10 columns</p>\n",
       "</div>"
      ],
      "text/plain": [
       "      Date of Birth    Provider Name Program Name Current Status  \\\n",
       "0        1985-04-11     Dario Health          DMP       Enrolled   \n",
       "1        1988-11-08     Sword Health     MSK-HIGH       Enrolled   \n",
       "2        1989-05-19        Headspace          SSR       Enrolled   \n",
       "3        1997-12-28      Betr Health         NDPP       Enrolled   \n",
       "4        1985-05-14        Headspace          SSR       Enrolled   \n",
       "...             ...              ...          ...            ...   \n",
       "23826    1971-01-30        Headspace          SSR       Enrolled   \n",
       "23827    1964-06-29        Headspace          SSR       Enrolled   \n",
       "23828    1964-11-30  Sworkit Fitness      MSK-LOW       Enrolled   \n",
       "23829    1962-08-22     Dario Health          HTN       Enrolled   \n",
       "23830    1962-06-17        Headspace          SSR    Disenrolled   \n",
       "\n",
       "      Enrollment Date Highest Milestone Gender  \\\n",
       "0          06/13/2025          Enrolled      F   \n",
       "1          06/13/2025        MSK_HIGHM1      M   \n",
       "2          06/13/2025             SSRM1      F   \n",
       "3          06/13/2025                M1      F   \n",
       "4          06/13/2025             SSRM1      M   \n",
       "...               ...               ...    ...   \n",
       "23826      12/16/2024             SSRM1      F   \n",
       "23827      12/16/2024             SSRM1      M   \n",
       "23828      12/16/2024         MSK_LOWM3      F   \n",
       "23829      12/16/2024             HTNM4      M   \n",
       "23830      12/16/2024             SSRM1      F   \n",
       "\n",
       "                                     Race          LOB  Age  \n",
       "0                                  Latino          IFP   40  \n",
       "1                                  Latino  Small Group   37  \n",
       "2                                   White  Small Group   36  \n",
       "3                             Multiracial          IFP   28  \n",
       "4                             Multiracial     Medi-CAL   40  \n",
       "...                                   ...          ...  ...  \n",
       "23826                              Latino      Premier   54  \n",
       "23827                              Latino      CalPERS   61  \n",
       "23828                              Latino     Medicare   61  \n",
       "23829  Asian American or Pacific Islander     Medi-CAL   63  \n",
       "23830                               White     Medi-CAL   63  \n",
       "\n",
       "[23831 rows x 10 columns]"
      ]
     },
     "execution_count": 7,
     "metadata": {},
     "output_type": "execute_result"
    }
   ],
   "source": [
    "now = datetime.datetime.now()\n",
    "current_year = now.year\n",
    "data['Date of Birth'] = pd.to_datetime(data['Date of Birth'])\n",
    "data['Age'] = current_year - data['Date of Birth'].dt.year\n",
    "data"
   ]
  },
  {
   "cell_type": "code",
   "execution_count": 8,
   "metadata": {},
   "outputs": [],
   "source": [
    "data.to_excel('data_v01.xlsx')"
   ]
  },
  {
   "cell_type": "code",
   "execution_count": 9,
   "metadata": {},
   "outputs": [
    {
     "data": {
      "text/plain": [
       "array(['06/13/2025', '06/12/2025', '06/11/2025', '06/10/2025',\n",
       "       '06/09/2025', '06/08/2025', '06/07/2025', '06/06/2025',\n",
       "       '06/05/2025', '06/04/2025', '06/03/2025', '06/02/2025',\n",
       "       '06/01/2025', '05/31/2025', '05/30/2025', '05/29/2025',\n",
       "       '05/28/2025', '05/27/2025', '05/26/2025', '05/25/2025',\n",
       "       '05/24/2025', '05/23/2025', '05/22/2025', '05/21/2025',\n",
       "       '05/20/2025', '05/19/2025', '05/18/2025', '05/17/2025',\n",
       "       '05/16/2025', '05/15/2025', '05/14/2025', '05/13/2025',\n",
       "       '05/12/2025', '05/11/2025', '05/10/2025', '05/09/2025',\n",
       "       '05/08/2025', '05/07/2025', '05/06/2025', '05/05/2025',\n",
       "       '05/04/2025', '05/03/2025', '05/02/2025', '05/01/2025',\n",
       "       '04/30/2025', '04/29/2025', '04/28/2025', '04/27/2025',\n",
       "       '04/26/2025', '04/25/2025', '04/24/2025', '04/23/2025',\n",
       "       '04/22/2025', '04/21/2025', '04/20/2025', '04/19/2025',\n",
       "       '04/18/2025', '04/17/2025', '04/16/2025', '04/15/2025',\n",
       "       '04/14/2025', '04/13/2025', '04/12/2025', '04/11/2025',\n",
       "       '04/10/2025', '04/09/2025', '04/08/2025', '04/07/2025',\n",
       "       '04/06/2025', '04/05/2025', '04/04/2025', '04/03/2025',\n",
       "       '04/02/2025', '04/01/2025', '03/31/2025', '03/30/2025',\n",
       "       '03/29/2025', '03/28/2025', '03/27/2025', '03/26/2025',\n",
       "       '03/25/2025', '03/24/2025', '03/23/2025', '03/22/2025',\n",
       "       '03/21/2025', '03/20/2025', '03/19/2025', '03/18/2025',\n",
       "       '03/17/2025', '03/16/2025', '03/15/2025', '03/14/2025',\n",
       "       '03/13/2025', '03/12/2025', '03/11/2025', '03/10/2025',\n",
       "       '03/09/2025', '03/08/2025', '03/07/2025', '03/06/2025',\n",
       "       '03/05/2025', '03/04/2025', '03/03/2025', '03/02/2025',\n",
       "       '03/01/2025', '02/28/2025', '02/27/2025', '02/26/2025',\n",
       "       '02/25/2025', '02/24/2025', '02/23/2025', '02/22/2025',\n",
       "       '02/21/2025', '02/20/2025', '02/19/2025', '02/18/2025',\n",
       "       '02/17/2025', '02/16/2025', '02/15/2025', '02/14/2025',\n",
       "       '02/13/2025', '02/12/2025', '02/11/2025', '02/10/2025',\n",
       "       '02/09/2025', '02/08/2025', '02/07/2025', '02/06/2025',\n",
       "       '02/05/2025', '02/04/2025', '02/03/2025', '02/02/2025',\n",
       "       '02/01/2025', '01/31/2025', '01/30/2025', '01/29/2025',\n",
       "       '01/28/2025', '01/27/2025', '01/26/2025', '01/25/2025',\n",
       "       '01/24/2025', '01/23/2025', '01/22/2025', '01/21/2025',\n",
       "       '01/20/2025', '01/19/2025', '01/18/2025', '01/17/2025',\n",
       "       '01/16/2025', '01/15/2025', '01/14/2025', '01/13/2025',\n",
       "       '01/12/2025', '01/11/2025', '01/10/2025', '01/09/2025',\n",
       "       '01/08/2025', '01/07/2025', '01/06/2025', '01/05/2025',\n",
       "       '01/04/2025', '01/03/2025', '01/02/2025', '01/01/2025',\n",
       "       '12/31/2024', '12/30/2024', '12/29/2024', '12/28/2024',\n",
       "       '12/27/2024', '12/26/2024', '12/25/2024', '12/24/2024',\n",
       "       '12/23/2024', '12/22/2024', '12/21/2024', '12/20/2024',\n",
       "       '12/19/2024', '12/18/2024', '12/17/2024', '12/16/2024'],\n",
       "      dtype=object)"
      ]
     },
     "execution_count": 9,
     "metadata": {},
     "output_type": "execute_result"
    }
   ],
   "source": [
    "data['Enrollment Date'].unique()"
   ]
  },
  {
   "cell_type": "code",
   "execution_count": 10,
   "metadata": {},
   "outputs": [
    {
     "data": {
      "text/plain": [
       "(23831, 10)"
      ]
     },
     "execution_count": 10,
     "metadata": {},
     "output_type": "execute_result"
    }
   ],
   "source": [
    "data.shape"
   ]
  },
  {
   "cell_type": "code",
   "execution_count": 11,
   "metadata": {},
   "outputs": [
    {
     "data": {
      "text/plain": [
       "Index(['Date of Birth', 'Provider Name', 'Program Name', 'Current Status',\n",
       "       'Enrollment Date', 'Highest Milestone', 'Gender', 'Race', 'LOB', 'Age'],\n",
       "      dtype='object')"
      ]
     },
     "execution_count": 11,
     "metadata": {},
     "output_type": "execute_result"
    }
   ],
   "source": [
    "data.columns"
   ]
  },
  {
   "cell_type": "code",
   "execution_count": 12,
   "metadata": {},
   "outputs": [
    {
     "data": {
      "text/html": [
       "<div>\n",
       "<style scoped>\n",
       "    .dataframe tbody tr th:only-of-type {\n",
       "        vertical-align: middle;\n",
       "    }\n",
       "\n",
       "    .dataframe tbody tr th {\n",
       "        vertical-align: top;\n",
       "    }\n",
       "\n",
       "    .dataframe thead th {\n",
       "        text-align: right;\n",
       "    }\n",
       "</style>\n",
       "<table border=\"1\" class=\"dataframe\">\n",
       "  <thead>\n",
       "    <tr style=\"text-align: right;\">\n",
       "      <th></th>\n",
       "      <th>Date of Birth</th>\n",
       "      <th>Provider Name</th>\n",
       "      <th>Program Name</th>\n",
       "      <th>Current Status</th>\n",
       "      <th>Enrollment Date</th>\n",
       "      <th>Highest Milestone</th>\n",
       "      <th>Gender</th>\n",
       "      <th>Race</th>\n",
       "      <th>LOB</th>\n",
       "      <th>Age</th>\n",
       "    </tr>\n",
       "  </thead>\n",
       "  <tbody>\n",
       "    <tr>\n",
       "      <th>0</th>\n",
       "      <td>1985-04-11</td>\n",
       "      <td>Dario Health</td>\n",
       "      <td>DMP</td>\n",
       "      <td>Enrolled</td>\n",
       "      <td>06/13/2025</td>\n",
       "      <td>Enrolled</td>\n",
       "      <td>F</td>\n",
       "      <td>Latino</td>\n",
       "      <td>IFP</td>\n",
       "      <td>40</td>\n",
       "    </tr>\n",
       "    <tr>\n",
       "      <th>1</th>\n",
       "      <td>1988-11-08</td>\n",
       "      <td>Sword Health</td>\n",
       "      <td>MSK-HIGH</td>\n",
       "      <td>Enrolled</td>\n",
       "      <td>06/13/2025</td>\n",
       "      <td>MSK_HIGHM1</td>\n",
       "      <td>M</td>\n",
       "      <td>Latino</td>\n",
       "      <td>Small Group</td>\n",
       "      <td>37</td>\n",
       "    </tr>\n",
       "    <tr>\n",
       "      <th>2</th>\n",
       "      <td>1989-05-19</td>\n",
       "      <td>Headspace</td>\n",
       "      <td>SSR</td>\n",
       "      <td>Enrolled</td>\n",
       "      <td>06/13/2025</td>\n",
       "      <td>SSRM1</td>\n",
       "      <td>F</td>\n",
       "      <td>White</td>\n",
       "      <td>Small Group</td>\n",
       "      <td>36</td>\n",
       "    </tr>\n",
       "    <tr>\n",
       "      <th>3</th>\n",
       "      <td>1997-12-28</td>\n",
       "      <td>Betr Health</td>\n",
       "      <td>NDPP</td>\n",
       "      <td>Enrolled</td>\n",
       "      <td>06/13/2025</td>\n",
       "      <td>M1</td>\n",
       "      <td>F</td>\n",
       "      <td>Multiracial</td>\n",
       "      <td>IFP</td>\n",
       "      <td>28</td>\n",
       "    </tr>\n",
       "    <tr>\n",
       "      <th>4</th>\n",
       "      <td>1985-05-14</td>\n",
       "      <td>Headspace</td>\n",
       "      <td>SSR</td>\n",
       "      <td>Enrolled</td>\n",
       "      <td>06/13/2025</td>\n",
       "      <td>SSRM1</td>\n",
       "      <td>M</td>\n",
       "      <td>Multiracial</td>\n",
       "      <td>Medi-CAL</td>\n",
       "      <td>40</td>\n",
       "    </tr>\n",
       "    <tr>\n",
       "      <th>...</th>\n",
       "      <td>...</td>\n",
       "      <td>...</td>\n",
       "      <td>...</td>\n",
       "      <td>...</td>\n",
       "      <td>...</td>\n",
       "      <td>...</td>\n",
       "      <td>...</td>\n",
       "      <td>...</td>\n",
       "      <td>...</td>\n",
       "      <td>...</td>\n",
       "    </tr>\n",
       "    <tr>\n",
       "      <th>23826</th>\n",
       "      <td>1971-01-30</td>\n",
       "      <td>Headspace</td>\n",
       "      <td>SSR</td>\n",
       "      <td>Enrolled</td>\n",
       "      <td>12/16/2024</td>\n",
       "      <td>SSRM1</td>\n",
       "      <td>F</td>\n",
       "      <td>Latino</td>\n",
       "      <td>Premier</td>\n",
       "      <td>54</td>\n",
       "    </tr>\n",
       "    <tr>\n",
       "      <th>23827</th>\n",
       "      <td>1964-06-29</td>\n",
       "      <td>Headspace</td>\n",
       "      <td>SSR</td>\n",
       "      <td>Enrolled</td>\n",
       "      <td>12/16/2024</td>\n",
       "      <td>SSRM1</td>\n",
       "      <td>M</td>\n",
       "      <td>Latino</td>\n",
       "      <td>CalPERS</td>\n",
       "      <td>61</td>\n",
       "    </tr>\n",
       "    <tr>\n",
       "      <th>23828</th>\n",
       "      <td>1964-11-30</td>\n",
       "      <td>Sworkit Fitness</td>\n",
       "      <td>MSK-LOW</td>\n",
       "      <td>Enrolled</td>\n",
       "      <td>12/16/2024</td>\n",
       "      <td>MSK_LOWM3</td>\n",
       "      <td>F</td>\n",
       "      <td>Latino</td>\n",
       "      <td>Medicare</td>\n",
       "      <td>61</td>\n",
       "    </tr>\n",
       "    <tr>\n",
       "      <th>23829</th>\n",
       "      <td>1962-08-22</td>\n",
       "      <td>Dario Health</td>\n",
       "      <td>HTN</td>\n",
       "      <td>Enrolled</td>\n",
       "      <td>12/16/2024</td>\n",
       "      <td>HTNM4</td>\n",
       "      <td>M</td>\n",
       "      <td>Asian American or Pacific Islander</td>\n",
       "      <td>Medi-CAL</td>\n",
       "      <td>63</td>\n",
       "    </tr>\n",
       "    <tr>\n",
       "      <th>23830</th>\n",
       "      <td>1962-06-17</td>\n",
       "      <td>Headspace</td>\n",
       "      <td>SSR</td>\n",
       "      <td>Disenrolled</td>\n",
       "      <td>12/16/2024</td>\n",
       "      <td>SSRM1</td>\n",
       "      <td>F</td>\n",
       "      <td>White</td>\n",
       "      <td>Medi-CAL</td>\n",
       "      <td>63</td>\n",
       "    </tr>\n",
       "  </tbody>\n",
       "</table>\n",
       "<p>23831 rows × 10 columns</p>\n",
       "</div>"
      ],
      "text/plain": [
       "      Date of Birth    Provider Name Program Name Current Status  \\\n",
       "0        1985-04-11     Dario Health          DMP       Enrolled   \n",
       "1        1988-11-08     Sword Health     MSK-HIGH       Enrolled   \n",
       "2        1989-05-19        Headspace          SSR       Enrolled   \n",
       "3        1997-12-28      Betr Health         NDPP       Enrolled   \n",
       "4        1985-05-14        Headspace          SSR       Enrolled   \n",
       "...             ...              ...          ...            ...   \n",
       "23826    1971-01-30        Headspace          SSR       Enrolled   \n",
       "23827    1964-06-29        Headspace          SSR       Enrolled   \n",
       "23828    1964-11-30  Sworkit Fitness      MSK-LOW       Enrolled   \n",
       "23829    1962-08-22     Dario Health          HTN       Enrolled   \n",
       "23830    1962-06-17        Headspace          SSR    Disenrolled   \n",
       "\n",
       "      Enrollment Date Highest Milestone Gender  \\\n",
       "0          06/13/2025          Enrolled      F   \n",
       "1          06/13/2025        MSK_HIGHM1      M   \n",
       "2          06/13/2025             SSRM1      F   \n",
       "3          06/13/2025                M1      F   \n",
       "4          06/13/2025             SSRM1      M   \n",
       "...               ...               ...    ...   \n",
       "23826      12/16/2024             SSRM1      F   \n",
       "23827      12/16/2024             SSRM1      M   \n",
       "23828      12/16/2024         MSK_LOWM3      F   \n",
       "23829      12/16/2024             HTNM4      M   \n",
       "23830      12/16/2024             SSRM1      F   \n",
       "\n",
       "                                     Race          LOB  Age  \n",
       "0                                  Latino          IFP   40  \n",
       "1                                  Latino  Small Group   37  \n",
       "2                                   White  Small Group   36  \n",
       "3                             Multiracial          IFP   28  \n",
       "4                             Multiracial     Medi-CAL   40  \n",
       "...                                   ...          ...  ...  \n",
       "23826                              Latino      Premier   54  \n",
       "23827                              Latino      CalPERS   61  \n",
       "23828                              Latino     Medicare   61  \n",
       "23829  Asian American or Pacific Islander     Medi-CAL   63  \n",
       "23830                               White     Medi-CAL   63  \n",
       "\n",
       "[23831 rows x 10 columns]"
      ]
     },
     "execution_count": 12,
     "metadata": {},
     "output_type": "execute_result"
    }
   ],
   "source": [
    "data"
   ]
  },
  {
   "cell_type": "markdown",
   "metadata": {},
   "source": [
    "## Analysis"
   ]
  },
  {
   "cell_type": "markdown",
   "metadata": {},
   "source": [
    "### Enrollment Analysis"
   ]
  },
  {
   "cell_type": "code",
   "execution_count": 13,
   "metadata": {},
   "outputs": [],
   "source": [
    "data['Enrollment Date'] = pd.to_datetime(data['Enrollment Date'])"
   ]
  },
  {
   "cell_type": "code",
   "execution_count": 14,
   "metadata": {},
   "outputs": [
    {
     "data": {
      "text/plain": [
       "1044"
      ]
     },
     "execution_count": 14,
     "metadata": {},
     "output_type": "execute_result"
    }
   ],
   "source": [
    "len(data[(data['Enrollment Date'].dt.month == 12) & (data['Current Status'] == 'Enrolled')])"
   ]
  },
  {
   "cell_type": "code",
   "execution_count": 15,
   "metadata": {},
   "outputs": [
    {
     "data": {
      "text/plain": [
       "4556"
      ]
     },
     "execution_count": 15,
     "metadata": {},
     "output_type": "execute_result"
    }
   ],
   "source": [
    "len(data[(data['Enrollment Date'].dt.month == 1) & (data['Current Status'] == 'Enrolled')])"
   ]
  },
  {
   "cell_type": "code",
   "execution_count": 16,
   "metadata": {},
   "outputs": [
    {
     "data": {
      "text/plain": [
       "4556"
      ]
     },
     "execution_count": 16,
     "metadata": {},
     "output_type": "execute_result"
    }
   ],
   "source": [
    "len(data[(data['Enrollment Date'].dt.month == 1) & (data['Current Status'] == 'Enrolled')])"
   ]
  },
  {
   "cell_type": "code",
   "execution_count": 17,
   "metadata": {},
   "outputs": [
    {
     "data": {
      "text/plain": [
       "array(['Enrolled', 'Disenrolled'], dtype=object)"
      ]
     },
     "execution_count": 17,
     "metadata": {},
     "output_type": "execute_result"
    }
   ],
   "source": [
    "data['Current Status'].unique()"
   ]
  },
  {
   "cell_type": "markdown",
   "metadata": {},
   "source": [
    "### Provider Performance"
   ]
  },
  {
   "cell_type": "code",
   "execution_count": 25,
   "metadata": {},
   "outputs": [
    {
     "data": {
      "text/plain": [
       "Provider Name\n",
       "Headspace                   5772\n",
       "Betr Health                 3795\n",
       "Dario Health                1926\n",
       "Sworkit Fitness             1833\n",
       "Headspace Care              1739\n",
       "Weight Watchers             1536\n",
       "Prana Diabetes - HabitNu    1378\n",
       "Transform                   1291\n",
       "Sword Health                1180\n",
       "Ciba Health Inc.             876\n",
       "Wondr                        604\n",
       "Kaia Health                  342\n",
       "Wondr Health                 154\n",
       "EX Program                   153\n",
       "Restore Health               146\n",
       "Virta                         40\n",
       "Nymbl Science                  7\n",
       "Name: count, dtype: int64"
      ]
     },
     "execution_count": 25,
     "metadata": {},
     "output_type": "execute_result"
    }
   ],
   "source": [
    "\n",
    "provider_counts = data[data['Current Status'] == 'Enrolled']['Provider Name'].value_counts()\n",
    "provider_counts"
   ]
  },
  {
   "cell_type": "code",
   "execution_count": 26,
   "metadata": {},
   "outputs": [
    {
     "data": {
      "text/plain": [
       "(np.float64(154.0), np.float64(1739.0))"
      ]
     },
     "execution_count": 26,
     "metadata": {},
     "output_type": "execute_result"
    }
   ],
   "source": [
    "q3 = provider_counts.quantile(0.75)\n",
    "q1 = provider_counts.quantile(0.25)\n",
    "iqr = q3-q3\n",
    "lower_bound = q1 - 1.5*iqr\n",
    "upper_bound = q3 + 1.5*iqr\n",
    "(lower_bound, upper_bound)"
   ]
  },
  {
   "cell_type": "code",
   "execution_count": 27,
   "metadata": {},
   "outputs": [
    {
     "data": {
      "text/plain": [
       "Provider Name\n",
       "Headspace          5772\n",
       "Betr Health        3795\n",
       "Dario Health       1926\n",
       "Sworkit Fitness    1833\n",
       "EX Program          153\n",
       "Restore Health      146\n",
       "Virta                40\n",
       "Nymbl Science         7\n",
       "Name: count, dtype: int64"
      ]
     },
     "execution_count": 27,
     "metadata": {},
     "output_type": "execute_result"
    }
   ],
   "source": [
    "provider_counts[(provider_counts < lower_bound) | (provider_counts > upper_bound)]"
   ]
  },
  {
   "cell_type": "code",
   "execution_count": 28,
   "metadata": {},
   "outputs": [
    {
     "data": {
      "text/plain": [
       "array(['Dario Health', 'Sword Health', 'Headspace', 'Betr Health',\n",
       "       'EX Program', 'Transform', 'Prana Diabetes - HabitNu', 'Wondr',\n",
       "       'Ciba Health Inc.', 'Weight Watchers', 'Sworkit Fitness',\n",
       "       'Wondr Health', 'Headspace Care', 'Kaia Health', 'Restore Health',\n",
       "       'Virta', 'Nymbl Science'], dtype=object)"
      ]
     },
     "execution_count": 28,
     "metadata": {},
     "output_type": "execute_result"
    }
   ],
   "source": [
    "data['Provider Name'].unique()"
   ]
  },
  {
   "cell_type": "code",
   "execution_count": null,
   "metadata": {},
   "outputs": [],
   "source": []
  }
 ],
 "metadata": {
  "kernelspec": {
   "display_name": "Python 3",
   "language": "python",
   "name": "python3"
  },
  "language_info": {
   "codemirror_mode": {
    "name": "ipython",
    "version": 3
   },
   "file_extension": ".py",
   "mimetype": "text/x-python",
   "name": "python",
   "nbconvert_exporter": "python",
   "pygments_lexer": "ipython3",
   "version": "3.12.2"
  }
 },
 "nbformat": 4,
 "nbformat_minor": 2
}
